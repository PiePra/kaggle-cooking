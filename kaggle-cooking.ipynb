{
 "cells": [
  {
   "cell_type": "code",
   "execution_count": 1,
   "metadata": {},
   "outputs": [
    {
     "name": "stderr",
     "output_type": "stream",
     "text": [
      "Using TensorFlow backend.\n"
     ]
    }
   ],
   "source": [
    "import json\n",
    "import tensorflow as tf\n",
    "from keras.utils import np_utils\n",
    "from keras.models import Sequential\n",
    "from keras.layers import Dense\n",
    "from keras.models import model_from_yaml\n",
    "import pandas as pd\n",
    "import numpy as np\n",
    "from random import randrange\n",
    "\n",
    "#data subdirectory\n",
    "dir = './data/'\n",
    "\n",
    "#open input training file\n",
    "with open(dir + 'train.json','r') as f:\n",
    "    train_file = json.load(f)\n",
    "\n",
    "#open input test file\n",
    "with open(dir + 'test.json','r') as f:\n",
    "    test_file = json.load(f)\n"
   ]
  },
  {
   "cell_type": "code",
   "execution_count": 2,
   "metadata": {},
   "outputs": [],
   "source": [
    "##lists for every input\n",
    "#cuisines of train file\n",
    "cuisines_train = [line['cuisine'] for line in train_file]\n",
    "cuisines = list(set(cuisines_train))\n",
    "#ingredients list of list of train file\n",
    "ingredients_train = [line['ingredients'] for line in train_file]\n",
    "#ids of train file\n",
    "ids_train = [line['id'] for line in train_file]\n",
    "#ids of test file\n",
    "ids_test = [line['id'] for line in test_file]\n",
    "#ingredients list of list of test file\n",
    "ingredients_test = [line['ingredients'] for line in test_file]\n",
    "#all ingredients in one list of list\n",
    "ingredients_all = ingredients_train + ingredients_test\n",
    "ingredients_flat = list(set([element for line in ingredients_all for element in line]))\n"
   ]
  },
  {
   "cell_type": "code",
   "execution_count": 3,
   "metadata": {},
   "outputs": [],
   "source": [
    "cuisines_vector=[]\n",
    "#get cuisines input vector\n",
    "for line in cuisines_train:\n",
    "    temp = np.zeros(len(cuisines))\n",
    "    temp[cuisines.index(line)] = 1\n",
    "    cuisines_vector.append(temp)\n",
    "    \n",
    "    "
   ]
  },
  {
   "cell_type": "code",
   "execution_count": 5,
   "metadata": {},
   "outputs": [],
   "source": [
    "#get ingredients input vector\n",
    "ingredients_vector=[]\n",
    "for line in ingredients_train:\n",
    "    temp = np.zeros(len(ingredients_flat))\n",
    "    for item in line:\n",
    "        temp[ingredients_flat.index(item)] = 1\n",
    "    ingredients_vector.append(temp)"
   ]
  },
  {
   "cell_type": "code",
   "execution_count": 17,
   "metadata": {},
   "outputs": [
    {
     "name": "stdout",
     "output_type": "stream",
     "text": [
      "Epoch 1/35\n",
      "39774/39774 [==============================] - 40s 1ms/step - loss: 0.0231 - accuracy: 0.6663\n",
      "Epoch 2/35\n",
      "39774/39774 [==============================] - 41s 1ms/step - loss: 0.0175 - accuracy: 0.7453\n",
      "Epoch 3/35\n",
      "39774/39774 [==============================] - 40s 1ms/step - loss: 0.0153 - accuracy: 0.7723\n",
      "Epoch 4/35\n",
      "39774/39774 [==============================] - 41s 1ms/step - loss: 0.0137 - accuracy: 0.7892\n",
      "Epoch 5/35\n",
      "39774/39774 [==============================] - 44s 1ms/step - loss: 0.0127 - accuracy: 0.8008\n",
      "Epoch 6/35\n",
      "39774/39774 [==============================] - 42s 1ms/step - loss: 0.0119 - accuracy: 0.8085\n",
      "Epoch 7/35\n",
      "39774/39774 [==============================] - 43s 1ms/step - loss: 0.0114 - accuracy: 0.8130\n",
      "Epoch 8/35\n",
      "39774/39774 [==============================] - 43s 1ms/step - loss: 0.0110 - accuracy: 0.8164\n",
      "Epoch 9/35\n",
      "39774/39774 [==============================] - 48s 1ms/step - loss: 0.0107 - accuracy: 0.8180\n",
      "Epoch 10/35\n",
      "39774/39774 [==============================] - 39s 990us/step - loss: 0.0105 - accuracy: 0.8207\n",
      "Epoch 11/35\n",
      "39774/39774 [==============================] - 42s 1ms/step - loss: 0.0103 - accuracy: 0.8223\n",
      "Epoch 12/35\n",
      "39774/39774 [==============================] - 39s 984us/step - loss: 0.0101 - accuracy: 0.8235\n",
      "Epoch 13/35\n",
      "39774/39774 [==============================] - 39s 990us/step - loss: 0.0100 - accuracy: 0.8245\n",
      "Epoch 14/35\n",
      "39774/39774 [==============================] - 39s 988us/step - loss: 0.0099 - accuracy: 0.8255\n",
      "Epoch 15/35\n",
      "39774/39774 [==============================] - 43s 1ms/step - loss: 0.0098 - accuracy: 0.8261\n",
      "Epoch 16/35\n",
      "39774/39774 [==============================] - 46s 1ms/step - loss: 0.0097 - accuracy: 0.8266\n",
      "Epoch 17/35\n",
      "39774/39774 [==============================] - 44s 1ms/step - loss: 0.0096 - accuracy: 0.8272\n",
      "Epoch 18/35\n",
      "39774/39774 [==============================] - 46s 1ms/step - loss: 0.0096 - accuracy: 0.8277\n",
      "Epoch 19/35\n",
      "39774/39774 [==============================] - 48s 1ms/step - loss: 0.0095 - accuracy: 0.8278\n",
      "Epoch 20/35\n",
      "39774/39774 [==============================] - 45s 1ms/step - loss: 0.0095 - accuracy: 0.8281\n",
      "Epoch 21/35\n",
      "39774/39774 [==============================] - 42s 1ms/step - loss: 0.0094 - accuracy: 0.8286\n",
      "Epoch 22/35\n",
      "39774/39774 [==============================] - 43s 1ms/step - loss: 0.0094 - accuracy: 0.8289\n",
      "Epoch 23/35\n",
      "39774/39774 [==============================] - 41s 1ms/step - loss: 0.0094 - accuracy: 0.8286\n",
      "Epoch 24/35\n",
      "39774/39774 [==============================] - 41s 1ms/step - loss: 0.0093 - accuracy: 0.8290\n",
      "Epoch 25/35\n",
      "39774/39774 [==============================] - 40s 994us/step - loss: 0.0093 - accuracy: 0.8293\n",
      "Epoch 26/35\n",
      "39774/39774 [==============================] - 40s 997us/step - loss: 0.0093 - accuracy: 0.8293\n",
      "Epoch 27/35\n",
      "39774/39774 [==============================] - 40s 1ms/step - loss: 0.0093 - accuracy: 0.8294\n",
      "Epoch 28/35\n",
      "39774/39774 [==============================] - 40s 995us/step - loss: 0.0092 - accuracy: 0.8299\n",
      "Epoch 29/35\n",
      "39774/39774 [==============================] - 41s 1ms/step - loss: 0.0092 - accuracy: 0.8295\n",
      "Epoch 30/35\n",
      "39774/39774 [==============================] - 41s 1ms/step - loss: 0.0091 - accuracy: 0.8300\n",
      "Epoch 31/35\n",
      "39774/39774 [==============================] - 47s 1ms/step - loss: 0.0091 - accuracy: 0.8304\n",
      "Epoch 32/35\n",
      "39774/39774 [==============================] - 40s 1ms/step - loss: 0.0091 - accuracy: 0.8306\n",
      "Epoch 33/35\n",
      "39774/39774 [==============================] - 41s 1ms/step - loss: 0.0091 - accuracy: 0.8307\n",
      "Epoch 34/35\n",
      "39774/39774 [==============================] - 40s 1ms/step - loss: 0.0091 - accuracy: 0.8308\n",
      "Epoch 35/35\n",
      "39774/39774 [==============================] - 41s 1ms/step - loss: 0.0091 - accuracy: 0.8310\n"
     ]
    },
    {
     "data": {
      "text/plain": [
       "<keras.callbacks.callbacks.History at 0x244a820ee08>"
      ]
     },
     "execution_count": 17,
     "metadata": {},
     "output_type": "execute_result"
    }
   ],
   "source": [
    "\n",
    "#create keras model\n",
    "model = Sequential()\n",
    "#7137 input neurons ( count of unique ingredients)\n",
    "#print(len(ingredient_map))\n",
    "model.add(Dense(50, activation=\"relu\", input_dim=7137))\n",
    "model.add(Dense(25, activation=\"relu\"))\n",
    "model.add(Dense(20, activation=\"relu\"))\n",
    "model.compile(optimizer=\"adam\", loss=\"mean_squared_error\", metrics=[\"accuracy\"])\n",
    "#train model, 50 epos, \n",
    "model.fit(np.array(ingredients_vector),np.array(cuisines_vector),epochs=35,batch_size=8)\n"
   ]
  },
  {
   "cell_type": "code",
   "execution_count": 18,
   "metadata": {},
   "outputs": [],
   "source": [
    "ingredients_test_vector=[]\n",
    "for line in ingredients_test:\n",
    "    temp = np.zeros(len(ingredients_flat))\n",
    "    for item in line:\n",
    "        temp[ingredients_flat.index(item)] = 1\n",
    "    ingredients_test_vector.append(temp)"
   ]
  },
  {
   "cell_type": "code",
   "execution_count": 19,
   "metadata": {},
   "outputs": [],
   "source": [
    "preds = model.predict(np.array(ingredients_test_vector))"
   ]
  },
  {
   "cell_type": "code",
   "execution_count": 97,
   "metadata": {},
   "outputs": [],
   "source": [
    "submit = []\n",
    "for line in preds:\n",
    "    result = np.where(line == np.amax(line))\n",
    "    if len(result[0]) == 1:\n",
    "        submit.append(cuisines[int(result[0])])\n",
    "    else: \n",
    "        submit.append(cuisines[randrange(20)])"
   ]
  },
  {
   "cell_type": "code",
   "execution_count": 100,
   "metadata": {},
   "outputs": [
    {
     "data": {
      "text/plain": [
       "9944"
      ]
     },
     "execution_count": 100,
     "metadata": {},
     "output_type": "execute_result"
    }
   ],
   "source": [
    "len(submit)"
   ]
  },
  {
   "cell_type": "code",
   "execution_count": 107,
   "metadata": {},
   "outputs": [],
   "source": [
    "with open ('submit.csv','w') as w:\n",
    "    for i in range (0,len(submit)):\n",
    "        w.write(str(ids_test[i]) + ',' + str(submit[i]) + '\\n' )\n",
    "    "
   ]
  },
  {
   "cell_type": "code",
   "execution_count": 94,
   "metadata": {},
   "outputs": [
    {
     "data": {
      "text/plain": [
       "0.2871946114346937"
      ]
     },
     "execution_count": 94,
     "metadata": {},
     "output_type": "execute_result"
    }
   ],
   "source": []
  },
  {
   "cell_type": "code",
   "execution_count": 95,
   "metadata": {},
   "outputs": [
    {
     "name": "stdout",
     "output_type": "stream",
     "text": [
      "8\n"
     ]
    }
   ],
   "source": [
    "\n"
   ]
  },
  {
   "cell_type": "code",
   "execution_count": null,
   "metadata": {},
   "outputs": [],
   "source": []
  }
 ],
 "metadata": {
  "kernelspec": {
   "display_name": "Python 3",
   "language": "python",
   "name": "python3"
  },
  "language_info": {
   "codemirror_mode": {
    "name": "ipython",
    "version": 3
   },
   "file_extension": ".py",
   "mimetype": "text/x-python",
   "name": "python",
   "nbconvert_exporter": "python",
   "pygments_lexer": "ipython3",
   "version": "3.7.4"
  }
 },
 "nbformat": 4,
 "nbformat_minor": 2
}
